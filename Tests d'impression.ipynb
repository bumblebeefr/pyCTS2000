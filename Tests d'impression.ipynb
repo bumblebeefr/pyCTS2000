{
 "cells": [
  {
   "cell_type": "code",
   "execution_count": 98,
   "metadata": {
    "collapsed": true
   },
   "outputs": [],
   "source": [
    "import serial\n",
    "import re\n",
    "import math\n",
    "import sys"
   ]
  },
  {
   "cell_type": "code",
   "execution_count": 2,
   "metadata": {
    "collapsed": true
   },
   "outputs": [],
   "source": [
    "LF = \"\\x0A\"\n",
    "CR = \"\\x0D\"\n",
    "FF = \"\\x0C\"\n",
    "ESC = \"\\x1B\"\n",
    "CAN = \"\\x18\"\n",
    "SP = \"\\x20\"\n",
    "GS = \"\\x1D\"\n",
    "NULL = chr(0)"
   ]
  },
  {
   "cell_type": "code",
   "execution_count": 82,
   "metadata": {
    "collapsed": true
   },
   "outputs": [],
   "source": [
    "connection = serial.Serial(port=\"/dev/ttyUSB0\",baudrate=19200)"
   ]
  },
  {
   "cell_type": "code",
   "execution_count": 83,
   "metadata": {
    "collapsed": true
   },
   "outputs": [],
   "source": [
    "w = connection.write\n",
    "\n",
    "def cut():\n",
    "    w(LF+LF+LF+LF+ESC+'i'+LF)"
   ]
  },
  {
   "cell_type": "code",
   "execution_count": 84,
   "metadata": {
    "collapsed": false
   },
   "outputs": [
    {
     "data": {
      "text/plain": [
       "1"
      ]
     },
     "execution_count": 84,
     "metadata": {},
     "output_type": "execute_result"
    }
   ],
   "source": [
    "connection.write('\\x0A')"
   ]
  },
  {
   "cell_type": "code",
   "execution_count": 125,
   "metadata": {
    "collapsed": true
   },
   "outputs": [],
   "source": [
    "cut()"
   ]
  },
  {
   "cell_type": "markdown",
   "metadata": {},
   "source": [
    "###Impression d'images\n",
    "####GS * n1 n2 [ d ] n1 x n2 x 8\n",
    "*cf page 50*\n",
    "\n",
    "\n",
    "**[Function]** \n",
    "Defining the download bit image\n",
    "\n",
    "\n",
    "**[Code]** \n",
    "* <1D>H<2A>H<n1><n2> [< d >] n1 x n2 x 8\n",
    "\n",
    "**[Range]** \n",
    "* 1≤n1≤255\n",
    "* 1≤n2≤48\n",
    "* n1 x n2 ≤1536\n",
    "\n",
    "**[Outline]**\n",
    "* Defines download bit images of the number of dots specified by “n1” and “n2”.\n",
    "* The numbers of dots are n1   8 in horizontal direction and n2   8 in vertical direction.\n",
    "* ”d” indicates bit image data.\n",
    "* Once defined, the download bit image remains effective until it is redefined, ESC @,\n",
    "ESC &, GS (A, or FS q, is executed, or power is turned OFF.\n",
    "\n",
    "**[Caution]** \n",
    "* Relations between the bit image data and the dots defined are shown below.\n",
    "* With this command executed, the defined content of a downloaded character is\n",
    "cleared.\n",
    "\n",
    "**[See Also]**\n",
    "* GS /\n",
    "\n",
    "\n",
    "**[Sample Program]**\n",
    "```\n",
    "    GOSUB IMG\n",
    "    LPRINT CHR$(&H1D);\"/\"; CHR$(0);\n",
    "    LPRINT CHR$(&H1D);\"/\"; CHR$(1);\n",
    "    LPRINT CHR$(&H1D);\"/\"; CHR$(2);\n",
    "    LPRINT CHR$(&H1D);\"/\"; CHR$(3);\n",
    "    END\n",
    "    \n",
    "    IMG:\n",
    "    n1=10:n2=5\n",
    "    LPRINT CHR$(&H1D);\"*\";\n",
    "    LPRINT CHR$(n1); CHR$(n2);\n",
    "    FOR J=1 TO n1*8\n",
    "    FOR I=1 TO n2\n",
    "    LPRINT CHR$(J);\n",
    "    NEXT I\n",
    "    NEXT J\n",
    "    RETURN\n",
    "```"
   ]
  },
  {
   "cell_type": "code",
   "execution_count": 34,
   "metadata": {
    "collapsed": false
   },
   "outputs": [],
   "source": [
    "n1=1\n",
    "n2=1\n",
    "\n",
    "w(GS+'*')\n",
    "w(chr(n1))\n",
    "w(chr(n2))\n",
    "for k in range(4*n1):\n",
    "    for l in range(n2):\n",
    "        w(\"\\xFA\")\n",
    "        w(\"\\xF0\")"
   ]
  },
  {
   "cell_type": "markdown",
   "metadata": {},
   "source": [
    "###Impression de l'image\n",
    "\n",
    "GS+H\n",
    "\n",
    "Modes : \n",
    "* 0,48\n",
    "* 1,49\n",
    "* 2,50\n",
    "* 3,51\n"
   ]
  },
  {
   "cell_type": "code",
   "execution_count": 39,
   "metadata": {
    "collapsed": false
   },
   "outputs": [
    {
     "data": {
      "text/plain": [
       "6"
      ]
     },
     "execution_count": 39,
     "metadata": {},
     "output_type": "execute_result"
    }
   ],
   "source": [
    "w(\"n1=%s, n2=%s\"%(n1,n2) + LF)\n",
    "for k in range(0,4):\n",
    "    w(\"%s\"%k+LF)\n",
    "    w(GS+\"/\"+chr(k)+LF)\n",
    "\n",
    "cut()"
   ]
  },
  {
   "cell_type": "markdown",
   "metadata": {},
   "source": [
    "### Printing of raster bit image\n",
    "\n",
    "**[Code]**  ``<1D>H<76>H<30>H<m><xL><xH><yL><yH> [<d>] k``\n",
    "\n",
    "\n",
    "**[Range]**\n",
    "* 0≤m≤3, 48≤m≤51, \n",
    "* 0≤xL≤255, \n",
    "* 0≤xH≤255,\n",
    "* 0≤yL≤255, \n",
    "* 0≤yH≤8\n",
    "* 0≤d≤255,\n",
    "* k = (xL + xH x 256) x (yL + yH x 256), however, k ≠ 0\n",
    "\n",
    "\n",
    "**[Outline]** Prints raster bit images in mode “m”.\n",
    "* xL, xH specify the number of data in horizontal direction of the bit image to (xL + xH\n",
    "x256) bytes.\n",
    "* yL, yH specify the number of data in vertical direction of the bit image to (yL + yH x\n",
    "256) bytes."
   ]
  },
  {
   "cell_type": "code",
   "execution_count": 86,
   "metadata": {
    "collapsed": false
   },
   "outputs": [],
   "source": [
    "def startRaster(mode,xL,xH,yL,yH):\n",
    "    w(GS+'v0') #Printing of raster bit imag\n",
    "    w(chr(mode)) #Print mode (0:normal, 1:double width, 2:double height, 3: quadruple size)\n",
    "    w(chr(xL)) #xL\n",
    "    w(chr(xH)) #xH\n",
    "    w(chr(yL)) #yL\n",
    "    w(chr(yH)) #yH"
   ]
  },
  {
   "cell_type": "code",
   "execution_count": 95,
   "metadata": {
    "collapsed": true
   },
   "outputs": [],
   "source": [
    "startRaster(3,2,0,5,0)\n",
    "# 2 lignes noires\n",
    "w('\\xFF')\n",
    "w('\\xFF')\n",
    "# 2lignes mi noires, mi blanches\n",
    "w('\\x0F')\n",
    "w('\\x0F')\n",
    "# 2 lignes mi blanches, mi noires\n",
    "w('\\xF0')\n",
    "w('\\xF0')\n",
    "\n",
    "# grille d'1px sur deux en decalé sur 4 lignes\n",
    "w('\\xAA')\n",
    "w('\\x55')\n",
    "w('\\xAA')\n",
    "w('\\x55')\n",
    "\n",
    "cut()"
   ]
  },
  {
   "cell_type": "code",
   "execution_count": 93,
   "metadata": {
    "collapsed": false
   },
   "outputs": [],
   "source": [
    "startRaster(3,1,0,2,0)\n",
    "w('\\xAA')\n",
    "w('\\xAA')\n",
    "cut()"
   ]
  },
  {
   "cell_type": "code",
   "execution_count": 123,
   "metadata": {
    "collapsed": false
   },
   "outputs": [],
   "source": [
    "def printPBM(filename,mode=3):\n",
    "    with open(filename,'r') as f:\n",
    "        while True:\n",
    "            header = f.readline().strip()\n",
    "            if header.startswith('#'):\n",
    "               continue\n",
    "            elif header == 'P1':\n",
    "               assert False, 'ASCII format not supported'\n",
    "            elif header == 'P4':\n",
    "               break\n",
    "            else:\n",
    "               assert False, 'Bad format !'\n",
    "\n",
    "\n",
    "        rows, cols = 0, 0\n",
    "        while True:\n",
    "            header = f.readline().strip()\n",
    "            if header.startswith('#'):\n",
    "               continue\n",
    "            else:\n",
    "               match = re.match('^(\\d+) (\\d+)$',header)\n",
    "               if match is None:\n",
    "                   assert False, 'Bad size'\n",
    "               else:\n",
    "                   cols, rows = match.groups()\n",
    "                   break\n",
    "        rows, cols = int(rows), int(cols)\n",
    "        assert (rows, cols) != (0, 0)\n",
    "        colbytes = int(math.ceil(cols/8.0))\n",
    "\n",
    "        xL,xH = colbytes%256, int(math.floor(colbytes/256.0))\n",
    "        yL,yH = rows%256, int(math.floor(rows/256.0))\n",
    "        \n",
    "        startRaster(mode,xL,xH,yL,yH)\n",
    "        for n in range(0,rows):\n",
    "            for m in range(0,colbytes):\n",
    "                mychar = f.read(1)\n",
    "                #sys.stdout.write('%02X' % ord(mychar))\n",
    "                w(mychar)"
   ]
  },
  {
   "cell_type": "code",
   "execution_count": 126,
   "metadata": {
    "collapsed": false
   },
   "outputs": [],
   "source": [
    "w(\"Bienvenue au Carrefour Numerique\")\n",
    "w(LF)\n",
    "printPBM('/opt/pbm/cerveau.pbm',0)\n",
    "cut()"
   ]
  }
 ],
 "metadata": {
  "kernelspec": {
   "display_name": "Python 2",
   "language": "python",
   "name": "python2"
  },
  "language_info": {
   "codemirror_mode": {
    "name": "ipython",
    "version": 2
   },
   "file_extension": ".py",
   "mimetype": "text/x-python",
   "name": "python",
   "nbconvert_exporter": "python",
   "pygments_lexer": "ipython2",
   "version": "2.7.6"
  }
 },
 "nbformat": 4,
 "nbformat_minor": 0
}
