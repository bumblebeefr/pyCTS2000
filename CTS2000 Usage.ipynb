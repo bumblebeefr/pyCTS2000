{
 "cells": [
  {
   "cell_type": "code",
   "execution_count": 1,
   "metadata": {
    "collapsed": false
   },
   "outputs": [],
   "source": [
    "from cts2000 import CTS2000\n",
    "from cts2000.const import *"
   ]
  },
  {
   "cell_type": "code",
   "execution_count": 2,
   "metadata": {
    "collapsed": false
   },
   "outputs": [
    {
     "name": "stdout",
     "output_type": "stream",
     "text": [
      "Connected to /tmp/printer in text mode\n"
     ]
    }
   ],
   "source": [
    "p=CTS2000(usbDevice='/tmp/printer')"
   ]
  },
  {
   "cell_type": "code",
   "execution_count": 5,
   "metadata": {
    "collapsed": false
   },
   "outputs": [],
   "source": [
    "p=CTS2000(serialDevice=\"/dev/ttyUSB0\")"
   ]
  },
  {
   "cell_type": "code",
   "execution_count": 46,
   "metadata": {
    "collapsed": false
   },
   "outputs": [],
   "source": [
    "p.echo('coucou')\n",
    "p.feed()\n",
    "p.cut()"
   ]
  },
  {
   "cell_type": "code",
   "execution_count": 9,
   "metadata": {
    "collapsed": false
   },
   "outputs": [],
   "source": [
    "p.select_font(FONT.B_9x24)\n",
    "p.select_charset(CHARSET.FRANCE)\n",
    "p.select_character_code_table(CHARTABLE.PC437)\n",
    "p.write(\"\\x1b\\x47\\x01\")\n",
    "p.echo(\"Bienvenue au carrefour numérique²\")\n",
    "p.echo(\"=================================\")\n",
    "p.print_pbm_image('/opt/pbm/coccinelle.pbm',0)\n",
    "p.cut()"
   ]
  },
  {
   "cell_type": "code",
   "execution_count": 7,
   "metadata": {
    "collapsed": false
   },
   "outputs": [],
   "source": [
    "p.beep()\n",
    "p.select_charset(CHARSET.FRANCE)\n",
    "p.select_character_code_table(CHARTABLE.PC437)\n",
    "p.select_font(FONT.C_8x16)\n",
    "p.double_strike()\n",
    "p.echo(\"Bienvenue au carrefour numérique²\")\n",
    "#p.print_pbm_image('/opt/pbm/had.pbm',0)\n",
    "p.double_strike(False)\n",
    "p.echo(\"Bienvenue au carrefour numérique²\")\n",
    "#p.print_pbm_image('/opt/pbm/had.pbm',0)\n",
    "p.beep()\n",
    "p.cut()"
   ]
  },
  {
   "cell_type": "code",
   "execution_count": 52,
   "metadata": {
    "collapsed": false
   },
   "outputs": [
    {
     "name": "stdout",
     "output_type": "stream",
     "text": [
      "G\n"
     ]
    }
   ],
   "source": [
    "print('\\x47')"
   ]
  },
  {
   "cell_type": "code",
   "execution_count": 4,
   "metadata": {
    "collapsed": false
   },
   "outputs": [],
   "source": [
    "p.print_pbm_image('/opt/pbm/fablab16.pbm',0)"
   ]
  }
 ],
 "metadata": {
  "kernelspec": {
   "display_name": "Python 2",
   "language": "python",
   "name": "python2"
  },
  "language_info": {
   "codemirror_mode": {
    "name": "ipython",
    "version": 2
   },
   "file_extension": ".py",
   "mimetype": "text/x-python",
   "name": "python",
   "nbconvert_exporter": "python",
   "pygments_lexer": "ipython2",
   "version": "2.7.6"
  }
 },
 "nbformat": 4,
 "nbformat_minor": 0
}
